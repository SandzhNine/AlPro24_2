{
 "cells": [
  {
   "cell_type": "code",
   "execution_count": 12,
   "metadata": {},
   "outputs": [
    {
     "name": "stdout",
     "output_type": "stream",
     "text": [
      "Kecepatan orbit sirkuler pada ketinggian orbit 500 km: 27419 km/h\n",
      "Jarak total antara satelit dan pusat Bumi: 6871000 meter\n"
     ]
    }
   ],
   "source": [
    "import numpy as np\n",
    "import csv\n",
    "\n",
    "def baca_konstanta(file_path):\n",
    "    with open(file_path, mode='r') as file:\n",
    "        reader = csv.DictReader(file)\n",
    "        constants = next(reader)\n",
    "        G = float(constants['G'])\n",
    "        M = float(constants['M'])\n",
    "        R_earth = float(constants['R_earth'])\n",
    "        h_orbit = float(constants['h_orbit'])\n",
    "    return G, M, R_earth, h_orbit\n",
    "\n",
    "def calculate_orbit_velocity(csv_file='Konstanta Game.csv'):\n",
    "    G, M, R_earth, h_orbit = baca_konstanta(csv_file)\n",
    "    r = R_earth + h_orbit \n",
    "    \n",
    "    # Menghitung kecepatan orbit (m/s)\n",
    "    v_orbit = np.sqrt(G * M / r)\n",
    "    \n",
    "    # Mengonversi kecepatan ke km/jam\n",
    "    v_orbit_kmh = v_orbit * 3.6  # m/s ke km/h\n",
    "    v0 = round(v_orbit_kmh)\n",
    "    return v0, r\n",
    "velocity, r = calculate_orbit_velocity()\n",
    "\n",
    "print(f\"Kecepatan orbit sirkuler pada ketinggian orbit {(r - 6371e3)/1000:.0f} km: {velocity} km/h\")\n",
    "print(f\"Jarak total antara satelit dan pusat Bumi: {r:.0f} meter\")\n"
   ]
  }
 ],
 "metadata": {
  "kernelspec": {
   "display_name": "Python 3",
   "language": "python",
   "name": "python3"
  },
  "language_info": {
   "codemirror_mode": {
    "name": "ipython",
    "version": 3
   },
   "file_extension": ".py",
   "mimetype": "text/x-python",
   "name": "python",
   "nbconvert_exporter": "python",
   "pygments_lexer": "ipython3",
   "version": "3.12.5"
  }
 },
 "nbformat": 4,
 "nbformat_minor": 2
}
